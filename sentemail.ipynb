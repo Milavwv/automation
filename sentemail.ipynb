{
  "nbformat": 4,
  "nbformat_minor": 0,
  "metadata": {
    "colab": {
      "provenance": [],
      "authorship_tag": "ABX9TyNQRyBF7vbWeQ5SzfaBXv3m",
      "include_colab_link": true
    },
    "kernelspec": {
      "name": "python3",
      "display_name": "Python 3"
    },
    "language_info": {
      "name": "python"
    }
  },
  "cells": [
    {
      "cell_type": "markdown",
      "metadata": {
        "id": "view-in-github",
        "colab_type": "text"
      },
      "source": [
        "<a href=\"https://colab.research.google.com/github/Milavwv/automation/blob/main/sentemail.ipynb\" target=\"_parent\"><img src=\"https://colab.research.google.com/assets/colab-badge.svg\" alt=\"Open In Colab\"/></a>"
      ]
    },
    {
      "cell_type": "code",
      "source": [
        "import requests # http requests\n",
        "\n",
        "from bs4 import BeautifulSoup # web scraping\n",
        "# Send the mail\n",
        "import smtplib\n",
        "# email body\n",
        "from email.mime.multipart import MIMEMultipart\n",
        "from email.mime.text import MIMEText\n",
        "# system date and time manipulation\n",
        "import datetime\n",
        "\n",
        "now = datetime.datetime.now()\n",
        "\n",
        "# email content placeholder\n",
        "\n",
        "content = ''\n",
        "\n",
        "\n",
        "#extracting Hacker News Stories\n",
        "\n",
        "\n",
        "def extract_news(url):\n",
        "    print('Extracting Hacker News Stories...')\n",
        "    cnt = ''\n",
        "    cnt += '<b>HN Top Stories:</b><br>' + '-'*50 + '<br>'\n",
        "    response = requests.get(url)\n",
        "    soup = BeautifulSoup(response.content, 'html.parser')\n",
        "\n",
        "    news_tags = soup.find_all('td', attrs={'class':'title', 'valign':''})\n",
        "\n",
        "    for i, tag in enumerate(news_tags):\n",
        "        title = tag.text.strip()\n",
        "        if title == 'More' or not tag.a:\n",
        "            continue\n",
        "        link = tag.a.get('href')\n",
        "        cnt += f\"{i+1} :: <a href='{link}'>{title}</a><br>\"\n",
        "\n",
        "    return cnt\n",
        "\n",
        "cnt = extract_news('https://news.ycombinator.com/')\n",
        "content += cnt\n",
        "content += '<br>------<br>'\n",
        "content += '<br><br>End of Message'\n",
        "\n",
        "\n",
        "#lets send the email\n",
        "\n",
        "print('Composing Email...')\n",
        "\n",
        "# update your email details\n",
        "# make sure to update the Google Low App Access settings before\n",
        "\n",
        "SERVER = 'smtp.163.com'\n",
        "PORT = 465\n",
        "FROM = '13036893950@163.com'\n",
        "TO = 'gengningyi@163.com'\n",
        "PASS = ''\n",
        "\n",
        "\n",
        "# fp = open(file_name, 'rb')\n",
        "# Create a text/plain message\n",
        "# msg = MIMEText('')\n",
        "msg = MIMEMultipart()\n",
        "\n",
        "# msg.add_header('Content-Disposition', 'attachment', filename='empty.txt')\n",
        "msg['Subject'] = 'Top News Stories HN [Automated Email]' + ' ' + str(now.day) + '-' + str(now.month) + '-' + str(\n",
        "    now.year)\n",
        "msg['From'] = FROM\n",
        "msg['To'] = TO\n",
        "\n",
        "msg.attach(MIMEText(content, 'html'))\n",
        "# fp.close()\n",
        "\n",
        "print('Initiating Server...')\n",
        "server = smtplib.SMTP_SSL(SERVER, PORT)\n",
        "server.set_debuglevel(1)\n",
        "server.login(FROM, PASS)\n",
        "server.sendmail(FROM, TO, msg.as_string())\n",
        "server.quit()\n",
        "\n",
        "print('Email Sent...')\n",
        "\n",
        "server.close()"
      ],
      "metadata": {
        "colab": {
          "base_uri": "https://localhost:8080/"
        },
        "id": "g2UO5FkJLtHQ",
        "outputId": "8f9f78a8-6c4f-45bf-9d9c-c0aac6c12da3"
      },
      "execution_count": 5,
      "outputs": [
        {
          "output_type": "stream",
          "name": "stdout",
          "text": [
            "Extracting Hacker News Stories...\n",
            "Composing Email...\n",
            "Initiating Server...\n"
          ]
        },
        {
          "output_type": "stream",
          "name": "stderr",
          "text": [
            "send: 'ehlo [172.28.0.12]\\r\\n'\n",
            "reply: b'250-mail\\r\\n'\n",
            "reply: b'250-PIPELINING\\r\\n'\n",
            "reply: b'250-AUTH LOGIN PLAIN XOAUTH2\\r\\n'\n",
            "reply: b'250-AUTH=LOGIN PLAIN XOAUTH2\\r\\n'\n",
            "reply: b'250-coremail 1Uxr2xKj7kG0xkI17xGrU7I0s8FY2U3Uj8Cz28x1UUUUU7Ic2I0Y2UFE0KCiUCa0xDrUUUUj\\r\\n'\n",
            "reply: b'250-STARTTLS\\r\\n'\n",
            "reply: b'250-ID\\r\\n'\n",
            "reply: b'250 8BITMIME\\r\\n'\n",
            "reply: retcode (250); Msg: b'mail\\nPIPELINING\\nAUTH LOGIN PLAIN XOAUTH2\\nAUTH=LOGIN PLAIN XOAUTH2\\ncoremail 1Uxr2xKj7kG0xkI17xGrU7I0s8FY2U3Uj8Cz28x1UUUUU7Ic2I0Y2UFE0KCiUCa0xDrUUUUj\\nSTARTTLS\\nID\\n8BITMIME'\n",
            "send: 'AUTH PLAIN ADEzMDM2ODkzOTUwQDE2My5jb20ATVRieGlYaVl3QlBQQ2NkTg==\\r\\n'\n",
            "reply: b'235 Authentication successful\\r\\n'\n",
            "reply: retcode (235); Msg: b'Authentication successful'\n",
            "send: 'mail FROM:<13036893950@163.com>\\r\\n'\n",
            "reply: b'250 Mail OK\\r\\n'\n",
            "reply: retcode (250); Msg: b'Mail OK'\n",
            "send: 'rcpt TO:<gengningyi@163.com>\\r\\n'\n",
            "reply: b'250 Mail OK\\r\\n'\n",
            "reply: retcode (250); Msg: b'Mail OK'\n",
            "send: 'data\\r\\n'\n",
            "reply: b'354 End data with <CR><LF>.<CR><LF>\\r\\n'\n",
            "reply: retcode (354); Msg: b'End data with <CR><LF>.<CR><LF>'\n",
            "data: (354, b'End data with <CR><LF>.<CR><LF>')\n",
            "send: b'Content-Type: multipart/mixed; boundary=\"===============8950857815549315707==\"\\r\\nMIME-Version: 1.0\\r\\nSubject: Top News Stories HN [Automated Email] 1-6-2025\\r\\nFrom: 13036893950@163.com\\r\\nTo: gengningyi@163.com\\r\\n\\r\\n--===============8950857815549315707==\\r\\nContent-Type: text/html; charset=\"us-ascii\"\\r\\nMIME-Version: 1.0\\r\\nContent-Transfer-Encoding: 7bit\\r\\n\\r\\n<b>HN Top Stories:</b><br>--------------------------------------------------<br><br>------<br><br><br>End of Message\\r\\n--===============8950857815549315707==--\\r\\n.\\r\\n'\n",
            "reply: b'250 Mail OK queued as gzsmtp5,QCgvCgDH9M+O+Tto5FN_BQ--.17284S2 1748760976\\r\\n'\n",
            "reply: retcode (250); Msg: b'Mail OK queued as gzsmtp5,QCgvCgDH9M+O+Tto5FN_BQ--.17284S2 1748760976'\n",
            "data: (250, b'Mail OK queued as gzsmtp5,QCgvCgDH9M+O+Tto5FN_BQ--.17284S2 1748760976')\n",
            "send: 'quit\\r\\n'\n"
          ]
        },
        {
          "output_type": "stream",
          "name": "stdout",
          "text": [
            "Email Sent...\n"
          ]
        },
        {
          "output_type": "stream",
          "name": "stderr",
          "text": [
            "reply: b'221 Bye\\r\\n'\n",
            "reply: retcode (221); Msg: b'Bye'\n"
          ]
        }
      ]
    },
    {
      "cell_type": "code",
      "source": [
        "print('Email content preview:')\n",
        "print(content)\n"
      ],
      "metadata": {
        "id": "371WM7FWLvFN",
        "colab": {
          "base_uri": "https://localhost:8080/"
        },
        "outputId": "ff63bf06-7aa9-43f4-ef6d-77871d32d342"
      },
      "execution_count": 6,
      "outputs": [
        {
          "output_type": "stream",
          "name": "stdout",
          "text": [
            "Email content preview:\n",
            "<b>HN Top Stories:</b><br>--------------------------------------------------<br><br>------<br><br><br>End of Message\n"
          ]
        }
      ]
    },
    {
      "cell_type": "code",
      "source": [],
      "metadata": {
        "id": "uTWMq4nTNqWl"
      },
      "execution_count": null,
      "outputs": []
    }
  ]
}